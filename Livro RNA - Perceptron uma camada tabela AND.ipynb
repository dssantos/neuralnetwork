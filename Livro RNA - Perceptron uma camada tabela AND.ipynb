{
 "cells": [
  {
   "cell_type": "code",
   "execution_count": null,
   "id": "84da12c4",
   "metadata": {},
   "outputs": [],
   "source": [
    "# Perceptron de uma camada - Tabela AND\n",
    "import numpy as np\n",
    "\n",
    "entradas = np.array([[0,0],[0,1],[1,0],[1,1]])\n",
    "saidas = np.array([0,0,0,1])\n",
    "\n",
    "pesos = np.array([0.0,0.0])\n",
    "taxaAprendizado = 0.5\n",
    "\n",
    "def soma(e,p):\n",
    "    return e.dot(p)\n",
    "\n",
    "s = soma(entradas, pesos)\n",
    "\n",
    "def stepFunction(soma):\n",
    "    if (soma >= 1):\n",
    "        return 1\n",
    "    return 0\n",
    "\n",
    "def calculoSaida(reg):\n",
    "    s = reg.dot(pesos)\n",
    "    return stepFunction(s)\n",
    "\n",
    "def aprendeAtualiza():\n",
    "    erroTotal = 1\n",
    "    while (erroTotal != 0):\n",
    "        erroTotal = 0\n",
    "        for i in range(len(saidas)):\n",
    "            calcSaida = calculoSaida(np.array(entradas[i]))\n",
    "            erro = abs(saidas[i] - calcSaida)\n",
    "            erroTotal += erro\n",
    "            for j in range(len(pesos)):\n",
    "                pesos[j] = pesos[j] + (taxaAprendizado * entradas[i][j] * erro)\n",
    "                print(f'Pesos atualizados> {str(pesos[j])}')\n",
    "        print(f'Total de erros: {str(erroTotal)}')\n",
    "            \n",
    "aprendeAtualiza()"
   ]
  }
 ],
 "metadata": {
  "kernelspec": {
   "display_name": "Python 3",
   "language": "python",
   "name": "python3"
  },
  "language_info": {
   "codemirror_mode": {
    "name": "ipython",
    "version": 3
   },
   "file_extension": ".py",
   "mimetype": "text/x-python",
   "name": "python",
   "nbconvert_exporter": "python",
   "pygments_lexer": "ipython3",
   "version": "3.8.0"
  },
  "varInspector": {
   "cols": {
    "lenName": 16,
    "lenType": 16,
    "lenVar": 40
   },
   "kernels_config": {
    "python": {
     "delete_cmd_postfix": "",
     "delete_cmd_prefix": "del ",
     "library": "var_list.py",
     "varRefreshCmd": "print(var_dic_list())"
    },
    "r": {
     "delete_cmd_postfix": ") ",
     "delete_cmd_prefix": "rm(",
     "library": "var_list.r",
     "varRefreshCmd": "cat(var_dic_list()) "
    }
   },
   "types_to_exclude": [
    "module",
    "function",
    "builtin_function_or_method",
    "instance",
    "_Feature"
   ],
   "window_display": false
  }
 },
 "nbformat": 4,
 "nbformat_minor": 5
}
