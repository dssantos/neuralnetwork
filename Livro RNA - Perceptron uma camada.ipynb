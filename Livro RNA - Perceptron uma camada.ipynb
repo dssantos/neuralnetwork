{
 "cells": [
  {
   "cell_type": "code",
   "execution_count": 1,
   "id": "6c806569",
   "metadata": {},
   "outputs": [
    {
     "name": "stdout",
     "output_type": "stream",
     "text": [
      "1.7000000000000002\n",
      "1\n"
     ]
    }
   ],
   "source": [
    "# Perceptron de uma camada\n",
    "import numpy as np\n",
    "\n",
    "entradas = np.array([1, 9, 5])\n",
    "pesos = ([0.8, 0.1, 0])\n",
    "\n",
    "def soma(e,p):\n",
    "    return e.dot(p)\n",
    "\n",
    "s = soma(entradas, pesos)\n",
    "\n",
    "def stepFunction(soma):\n",
    "    if (s >=1):\n",
    "        return 1\n",
    "    return 0\n",
    "\n",
    "saida = stepFunction(s)\n",
    "\n",
    "print(s)\n",
    "print(saida)"
   ]
  }
 ],
 "metadata": {
  "kernelspec": {
   "display_name": "Python 3",
   "language": "python",
   "name": "python3"
  },
  "language_info": {
   "codemirror_mode": {
    "name": "ipython",
    "version": 3
   },
   "file_extension": ".py",
   "mimetype": "text/x-python",
   "name": "python",
   "nbconvert_exporter": "python",
   "pygments_lexer": "ipython3",
   "version": "3.8.0"
  },
  "varInspector": {
   "cols": {
    "lenName": 16,
    "lenType": 16,
    "lenVar": 40
   },
   "kernels_config": {
    "python": {
     "delete_cmd_postfix": "",
     "delete_cmd_prefix": "del ",
     "library": "var_list.py",
     "varRefreshCmd": "print(var_dic_list())"
    },
    "r": {
     "delete_cmd_postfix": ") ",
     "delete_cmd_prefix": "rm(",
     "library": "var_list.r",
     "varRefreshCmd": "cat(var_dic_list()) "
    }
   },
   "oldHeight": 220,
   "position": {
    "height": "659px",
    "left": "863px",
    "right": "20px",
    "top": "-15px",
    "width": "492px"
   },
   "types_to_exclude": [
    "module",
    "function",
    "builtin_function_or_method",
    "instance",
    "_Feature"
   ],
   "varInspector_section_display": "block",
   "window_display": true
  }
 },
 "nbformat": 4,
 "nbformat_minor": 5
}
