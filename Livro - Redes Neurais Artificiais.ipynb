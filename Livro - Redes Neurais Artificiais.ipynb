{
 "cells": [
  {
   "cell_type": "code",
   "execution_count": 1,
   "id": "6c806569",
   "metadata": {},
   "outputs": [
    {
     "name": "stdout",
     "output_type": "stream",
     "text": [
      "1.7000000000000002\n",
      "1\n"
     ]
    }
   ],
   "source": [
    "# Perceptron de uma camada\n",
    "import numpy as np\n",
    "\n",
    "entradas = np.array([1, 9, 5])\n",
    "pesos = ([0.8, 0.1, 0])\n",
    "\n",
    "def soma(e,p):\n",
    "    return e.dot(p)\n",
    "\n",
    "s = soma(entradas, pesos)\n",
    "\n",
    "def stepFunction(soma):\n",
    "    if (s >=1):\n",
    "        return 1\n",
    "    return 0\n",
    "\n",
    "saida = stepFunction(s)\n",
    "\n",
    "print(s)\n",
    "print(saida)"
   ]
  },
  {
   "cell_type": "code",
   "execution_count": 6,
   "id": "cae105c4",
   "metadata": {},
   "outputs": [
    {
     "name": "stdout",
     "output_type": "stream",
     "text": [
      "Pesos atualizados> 0.0\n",
      "Pesos atualizados> 0.0\n",
      "Pesos atualizados> 0.0\n",
      "Pesos atualizados> 0.0\n",
      "Pesos atualizados> 0.0\n",
      "Pesos atualizados> 0.0\n",
      "Pesos atualizados> 0.5\n",
      "Pesos atualizados> 0.5\n",
      "Total de erros: 1\n",
      "Pesos atualizados> 0.5\n",
      "Pesos atualizados> 0.5\n",
      "Pesos atualizados> 0.5\n",
      "Pesos atualizados> 0.5\n",
      "Pesos atualizados> 0.5\n",
      "Pesos atualizados> 0.5\n",
      "Pesos atualizados> 0.5\n",
      "Pesos atualizados> 0.5\n",
      "Total de erros: 0\n"
     ]
    }
   ],
   "source": [
    "# Perceptron de uma camada - Tabela AND\n",
    "import numpy as np\n",
    "\n",
    "entradas = np.array([[0,0],[0,1],[1,0],[1,1]])\n",
    "saidas = np.array([0,0,0,1])\n",
    "\n",
    "pesos = np.array([0.0,0.0])\n",
    "taxaAprendizado = 0.5\n",
    "\n",
    "def soma(e,p):\n",
    "    return e.dot(p)\n",
    "\n",
    "s = soma(entradas, pesos)\n",
    "\n",
    "def stepFunction(soma):\n",
    "    if (soma >= 1):\n",
    "        return 1\n",
    "    return 0\n",
    "\n",
    "def calculoSaida(reg):\n",
    "    s = reg.dot(pesos)\n",
    "    return stepFunction(s)\n",
    "\n",
    "def aprendeAtualiza():\n",
    "    erroTotal = 1\n",
    "    while (erroTotal != 0):\n",
    "        erroTotal = 0\n",
    "        for i in range(len(saidas)):\n",
    "            calcSaida = calculoSaida(np.array(entradas[i]))\n",
    "            erro = abs(saidas[i] - calcSaida)\n",
    "            erroTotal += erro\n",
    "            for j in range(len(pesos)):\n",
    "                pesos[j] = pesos[j] + (taxaAprendizado * entradas[i][j] * erro)\n",
    "                print(f'Pesos atualizados> {str(pesos[j])}')\n",
    "        print(f'Total de erros: {str(erroTotal)}')\n",
    "            \n",
    "aprendeAtualiza()"
   ]
  },
  {
   "cell_type": "code",
   "execution_count": 18,
   "id": "90e4d1a2",
   "metadata": {
    "scrolled": false
   },
   "outputs": [
    {
     "name": "stdout",
     "output_type": "stream",
     "text": [
      "Margem de erro: 0.006978762880311354\n"
     ]
    }
   ],
   "source": [
    "# Perceptron duas camadas - Tabela XOR\n",
    "import numpy as np\n",
    "\n",
    "entradas = np.array([[0,0],\n",
    "                     [0,1],\n",
    "                     [1,0],\n",
    "                     [1,1]])\n",
    "saidas = np.array([[0],[1],[1],[0]])\n",
    "pesos0 = np.array([[-0.424, -0.740, -0.961],\n",
    "                   [0.358, -0.577, -0.469]])\n",
    "pesos1 = np.array([[-0.017], [-0.893], [0.148]])\n",
    "\n",
    "ntreinos = 1000000\n",
    "taxaAprendizado = 0.3\n",
    "momentum = 1\n",
    "\n",
    "def sigmoid(soma):\n",
    "    return 1 /(1 + np.exp(-soma))\n",
    "    \n",
    "def sigmoideDerivada(sig):\n",
    "    return sig * (1-sig)\n",
    "sigDerivada = sigmoid(0.5)\n",
    "sigDerivada1 = sigmoideDerivada(sigDerivada)\n",
    "\n",
    "for i in range(ntreinos):\n",
    "    camadaEntrada = entradas\n",
    "    somaSinapse0 = np.dot(camadaEntrada, pesos0)\n",
    "    camadaOculta = sigmoid(somaSinapse0)\n",
    "    \n",
    "    somaSinapse1 = np.dot(camadaOculta, pesos1)\n",
    "    camadaSaida = sigmoid(somaSinapse1)\n",
    "    \n",
    "    erroCamadaSaida = saidas - camadaSaida\n",
    "    mediaAbsoluta = np.mean(np.abs(erroCamadaSaida))\n",
    "    \n",
    "    derivadaSaida = sigmoideDerivada(camadaSaida)\n",
    "    deltaSaida = erroCamadaSaida * derivadaSaida\n",
    "\n",
    "    pesos1Transposta = pesos1.T\n",
    "    deltaSaidaXpesos = deltaSaida.dot(pesos1Transposta)\n",
    "    deltaCamadaOculta = deltaSaidaXpesos * sigmoideDerivada(camadaOculta)\n",
    "\n",
    "    camadaOcultaTransposta = camadaOculta.T\n",
    "    pesos3 = camadaOcultaTransposta.dot(deltaSaida)\n",
    "    pesos1 = (pesos1 * momentum) + (pesos3 * taxaAprendizado)\n",
    "\n",
    "    camadaEntradaTransposta = camadaEntrada.T\n",
    "    pesos4 = camadaEntradaTransposta.dot(deltaCamadaOculta)\n",
    "    pesos0 = (pesos0 * momentum) + (pesos4 * taxaAprendizado)\n",
    "\n",
    "    if (i == (ntreinos - 1)):\n",
    "        print(f'Margem de erro: {mediaAbsoluta}')\n"
   ]
  }
 ],
 "metadata": {
  "kernelspec": {
   "display_name": "Python 3",
   "language": "python",
   "name": "python3"
  },
  "language_info": {
   "codemirror_mode": {
    "name": "ipython",
    "version": 3
   },
   "file_extension": ".py",
   "mimetype": "text/x-python",
   "name": "python",
   "nbconvert_exporter": "python",
   "pygments_lexer": "ipython3",
   "version": "3.8.0"
  },
  "varInspector": {
   "cols": {
    "lenName": 16,
    "lenType": 16,
    "lenVar": 40
   },
   "kernels_config": {
    "python": {
     "delete_cmd_postfix": "",
     "delete_cmd_prefix": "del ",
     "library": "var_list.py",
     "varRefreshCmd": "print(var_dic_list())"
    },
    "r": {
     "delete_cmd_postfix": ") ",
     "delete_cmd_prefix": "rm(",
     "library": "var_list.r",
     "varRefreshCmd": "cat(var_dic_list()) "
    }
   },
   "oldHeight": 220,
   "position": {
    "height": "659px",
    "left": "863px",
    "right": "20px",
    "top": "-15px",
    "width": "492px"
   },
   "types_to_exclude": [
    "module",
    "function",
    "builtin_function_or_method",
    "instance",
    "_Feature"
   ],
   "varInspector_section_display": "block",
   "window_display": true
  }
 },
 "nbformat": 4,
 "nbformat_minor": 5
}
