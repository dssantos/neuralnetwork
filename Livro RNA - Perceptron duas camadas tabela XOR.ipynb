{
 "cells": [
  {
   "cell_type": "code",
   "execution_count": null,
   "id": "a0b20230",
   "metadata": {},
   "outputs": [],
   "source": [
    "# Perceptron duas camadas - Tabela XOR\n",
    "import numpy as np\n",
    "\n",
    "entradas = np.array([[0,0],\n",
    "                     [0,1],\n",
    "                     [1,0],\n",
    "                     [1,1]])\n",
    "saidas = np.array([[0],[1],[1],[0]])\n",
    "pesos0 = np.array([[-0.424, -0.740, -0.961],\n",
    "                   [0.358, -0.577, -0.469]])\n",
    "pesos1 = np.array([[-0.017], [-0.893], [0.148]])\n",
    "\n",
    "ntreinos = 1000000\n",
    "taxaAprendizado = 0.3\n",
    "momentum = 1\n",
    "\n",
    "def sigmoid(soma):\n",
    "    return 1 /(1 + np.exp(-soma))\n",
    "    \n",
    "def sigmoideDerivada(sig):\n",
    "    return sig * (1-sig)\n",
    "sigDerivada = sigmoid(0.5)\n",
    "sigDerivada1 = sigmoideDerivada(sigDerivada)\n",
    "\n",
    "for i in range(ntreinos):\n",
    "    camadaEntrada = entradas\n",
    "    somaSinapse0 = np.dot(camadaEntrada, pesos0)\n",
    "    camadaOculta = sigmoid(somaSinapse0)\n",
    "    \n",
    "    somaSinapse1 = np.dot(camadaOculta, pesos1)\n",
    "    camadaSaida = sigmoid(somaSinapse1)\n",
    "    \n",
    "    erroCamadaSaida = saidas - camadaSaida\n",
    "    mediaAbsoluta = np.mean(np.abs(erroCamadaSaida))\n",
    "    \n",
    "    derivadaSaida = sigmoideDerivada(camadaSaida)\n",
    "    deltaSaida = erroCamadaSaida * derivadaSaida\n",
    "\n",
    "    pesos1Transposta = pesos1.T\n",
    "    deltaSaidaXpesos = deltaSaida.dot(pesos1Transposta)\n",
    "    deltaCamadaOculta = deltaSaidaXpesos * sigmoideDerivada(camadaOculta)\n",
    "\n",
    "    camadaOcultaTransposta = camadaOculta.T\n",
    "    pesos3 = camadaOcultaTransposta.dot(deltaSaida)\n",
    "    pesos1 = (pesos1 * momentum) + (pesos3 * taxaAprendizado)\n",
    "\n",
    "    camadaEntradaTransposta = camadaEntrada.T\n",
    "    pesos4 = camadaEntradaTransposta.dot(deltaCamadaOculta)\n",
    "    pesos0 = (pesos0 * momentum) + (pesos4 * taxaAprendizado)\n",
    "\n",
    "    if (i == (ntreinos - 1)):\n",
    "        print(f'Margem de erro: {mediaAbsoluta}')"
   ]
  }
 ],
 "metadata": {
  "kernelspec": {
   "display_name": "Python 3",
   "language": "python",
   "name": "python3"
  },
  "language_info": {
   "codemirror_mode": {
    "name": "ipython",
    "version": 3
   },
   "file_extension": ".py",
   "mimetype": "text/x-python",
   "name": "python",
   "nbconvert_exporter": "python",
   "pygments_lexer": "ipython3",
   "version": "3.8.0"
  },
  "varInspector": {
   "cols": {
    "lenName": 16,
    "lenType": 16,
    "lenVar": 40
   },
   "kernels_config": {
    "python": {
     "delete_cmd_postfix": "",
     "delete_cmd_prefix": "del ",
     "library": "var_list.py",
     "varRefreshCmd": "print(var_dic_list())"
    },
    "r": {
     "delete_cmd_postfix": ") ",
     "delete_cmd_prefix": "rm(",
     "library": "var_list.r",
     "varRefreshCmd": "cat(var_dic_list()) "
    }
   },
   "types_to_exclude": [
    "module",
    "function",
    "builtin_function_or_method",
    "instance",
    "_Feature"
   ],
   "window_display": false
  }
 },
 "nbformat": 4,
 "nbformat_minor": 5
}
